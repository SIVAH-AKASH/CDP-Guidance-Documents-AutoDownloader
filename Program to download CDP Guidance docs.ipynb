{
 "cells": [
  {
   "cell_type": "code",
   "execution_count": 1,
   "metadata": {},
   "outputs": [],
   "source": [
    "# Import packages\n",
    "from selenium import webdriver\n",
    "import time\n",
    "from selenium.webdriver.common.by import By\n",
    "from selenium.webdriver.support.ui import WebDriverWait\n",
    "from selenium.webdriver.support import expected_conditions as EC\n",
    "import pandas\n",
    "import os"
   ]
  },
  {
   "cell_type": "code",
   "execution_count": 2,
   "metadata": {},
   "outputs": [],
   "source": [
    "# Assigning variables\n",
    "F_Q = \"https://guidance.cdp.net/en/tags?cid=31&ctype=theme&gettags=0&idtype=ThemeID&incchild=1&microsite=0&otype=Questionnaire&page=1&tgprompt=TG-124%2CTG-127%2CTG-125\"\n",
    "CC_Q = \"https://guidance.cdp.net/en/tags?cid=30&ctype=theme&gettags=0&idtype=ThemeID&incchild=1&microsite=0&otype=Questionnaire&page=1&tgprompt=TG-124%2CTG-127%2CTG-125\"\n",
    "WS_Q = \"https://guidance.cdp.net/en/tags?cid=35&ctype=theme&gettags=0&idtype=ThemeID&incchild=1&microsite=0&otype=Questionnaire&page=1&tgprompt=TG-124%2CTG-127%2CTG-125\"\n",
    "F_RG = \"https://guidance.cdp.net/en/tags?cid=31&ctype=theme&gettags=0&idtype=ThemeID&incchild=1&microsite=0&otype=Guidance&page=1&tgprompt=TG-124%2CTG-127%2CTG-125\"\n",
    "CC_RG = \"https://guidance.cdp.net/en/tags?cid=30&ctype=theme&gettags=0&idtype=ThemeID&incchild=1&microsite=0&otype=Guidance&page=1&tgprompt=TG-124%2CTG-127%2CTG-125\"\n",
    "WS_RG = \"https://guidance.cdp.net/en/tags?cid=35&ctype=theme&gettags=0&idtype=ThemeID&incchild=1&microsite=0&otype=Guidance&page=1&tgprompt=TG-124%2CTG-127%2CTG-125\"\n",
    "F_SM = \"https://guidance.cdp.net/en/tags?cid=31&ctype=theme&gettags=0&idtype=ThemeID&incchild=1&microsite=0&otype=ScoringMethodology&page=1&tgprompt=TG-124%2CTG-127%2CTG-125\"\n",
    "CC_SM = \"https://guidance.cdp.net/en/tags?cid=30&ctype=theme&gettags=0&idtype=ThemeID&incchild=1&microsite=0&otype=ScoringMethodology&page=1&tgprompt=TG-124%2CTG-127%2CTG-125\"\n",
    "WS_SM = \"https://guidance.cdp.net/en/tags?cid=35&ctype=theme&gettags=0&idtype=ThemeID&incchild=1&microsite=0&otype=ScoringMethodology&page=1&tgprompt=TG-124%2CTG-127%2CTG-125\"\n",
    "Docs = (F_Q, CC_Q, WS_Q, F_RG, CC_RG, WS_RG, F_SM, CC_SM, WS_SM)\n",
    "\n",
    "Sector_HTML_Value = (\"'TAG-597']\",\"'TAG-593']\",\"'TAG-586']\",\"'TAG-587']\",\"'TAG-596']\",\"'TAG-585']\",\"'TAG-13072']\",\"'TAG-645']\",\"'TAG-588']\",\"'TAG-13069']\",\"'TAG-592']\",\"'TAG-13070']\",\"'TAG-13071']\",\"'TAG-595']\",\"'TAG-598']\",\"'TAG-594']\",\"'TAG-590']\",\"'TAG-646']\")"
   ]
  },
  {
   "cell_type": "code",
   "execution_count": 3,
   "metadata": {},
   "outputs": [],
   "source": [
    "#Loop for Themes\n",
    "for i in (0, 1, 2, 3, 4, 5, 6, 7, 8):\n",
    "\n",
    "    #Loop for Sectors\n",
    "    for j in range(0,18):\n",
    "\n",
    "\n",
    "        # start web browser\n",
    "        browser = webdriver.Firefox(firefox_profile = \"C:\\\\Users\\\\username\\\\Desktop\\\\CDP Guidance Docs Auto-Downloader\\\\Test\")\n",
    "\n",
    "        # input website url and perform automation\n",
    "        browser.get(Docs[i])\n",
    "\n",
    "\n",
    "        WebDriverWait(browser, 100).until(    EC.element_to_be_clickable((By.ID, \"onetrust-accept-btn-handler\"))    ).click()\n",
    "\n",
    "\n",
    "        time.sleep(5)\n",
    "        WebDriverWait(browser, 100).until(    EC.element_to_be_clickable((By.XPATH, \"//input[@value=\" + Sector_HTML_Value[j]))    ).click()\n",
    "        WebDriverWait(browser, 100).until(    EC.element_to_be_clickable((By.XPATH, \"//input[@value='Next']\"))    ).click()\n",
    "\n",
    "\n",
    "        if (i == 0) | (i == 3) | (i == 6): temp = \"609\"\n",
    "        elif (i == 1) | (i == 4) | (i == 7): temp = \"605\"\n",
    "        elif (i == 2) | (i == 5) | (i == 8): temp = \"607\"\n",
    "        WebDriverWait(browser, 100).until(    EC.element_to_be_clickable((By.ID, \"group_tags_TAG-\"+temp))    ).click()\n",
    "        WebDriverWait(browser, 100).until(    EC.element_to_be_clickable((By.XPATH, \"//input[@value='Next']\"))    ).click()\n",
    "\n",
    "\n",
    "        WebDriverWait(browser, 100).until(    EC.element_to_be_clickable((By.XPATH, \"//input[@value='TAG-599']\"))    ).click()\n",
    "        WebDriverWait(browser, 100).until(    EC.element_to_be_clickable((By.XPATH, \"//input[@value='TAG-600']\"))    ).click()\n",
    "        if (i == 1) | (i == 4) | (i == 7): WebDriverWait(browser, 100).until(    EC.element_to_be_clickable((By.XPATH, \"//input[@value='TAG-13135']\"))    ).click()\n",
    "        WebDriverWait(browser, 100).until(    EC.element_to_be_clickable((By.XPATH, \"//input[@value='Next']\"))    ).click()\n",
    "\n",
    "\n",
    "\n",
    "\n",
    "        WebDriverWait(browser, 100).until(    EC.element_to_be_clickable((By.LINK_TEXT, \"Export to PDF\"))    ).click()\n",
    "\n",
    "\n",
    "        WebDriverWait(browser, 600).until(    EC.element_to_be_clickable((By.LINK_TEXT, \"Download\"))    ).click()\n",
    "\n",
    "\n",
    "        # close web browser\n",
    "        time.sleep(5)   # Adjust based on internet speed (Slower internet speed -> Higher sleep time here)\n",
    "        browser.quit()  # browser.quit() instead of browser.close() as the webdriver opens a new webdriver process with each loop (can be seen in Windows Task Manager) with the latter"
   ]
  },
  {
   "cell_type": "code",
   "execution_count": 4,
   "metadata": {
    "scrolled": true
   },
   "outputs": [],
   "source": [
    "#Climate change Question level guidance\n",
    "\n",
    "Qs = pandas.read_csv(\"C:\\\\Users\\\\username\\\\Desktop\\\\CDP Guidance Docs Auto-Downloader\\\\QuestionBank.csv\", nrows = 350)\n",
    "Qs.style.set_properties(subset=['Guidance_URLs'], **{'width-min': '30000px'}) #pandas.set_option('display.max_colwidth', None)\n",
    "\n",
    "Qs"
   ]
  },
  {
   "cell_type": "code",
   "execution_count": 5,
   "metadata": {},
   "outputs": [],
   "source": [
    "for k in range(0, len(Qs)):\n",
    "\n",
    "    browser = webdriver.Firefox(firefox_profile = \"C:\\\\Users\\\\username\\\\Desktop\\\\CDP Guidance Docs Auto-Downloader\\\\Test\")\n",
    "    browser.get(Qs.loc[k,\"Guidance_URLs\"])\n",
    "\n",
    "    WebDriverWait(browser, 100).until(    EC.element_to_be_clickable((By.ID, \"onetrust-accept-btn-handler\"))    ).click()\n",
    "    time.sleep(2)\n",
    "    WebDriverWait(browser, 100).until(    EC.element_to_be_clickable((By.LINK_TEXT, \"Export to PDF\"))    ).click()\n",
    "    WebDriverWait(browser, 200).until(    EC.element_to_be_clickable((By.LINK_TEXT, \"Download\"))    ).click()\n",
    "\n",
    "    time.sleep(5)\n",
    "    browser.quit()\n",
    "\n",
    "    os.rename(r'C:\\\\Users\\\\username\\\\Downloads\\\\CDPClimateChange2022_Question-levelGuidance.pdf',r'C:\\\\Users\\\\username\\\\Downloads\\\\'+Qs.loc[k,\"Edited_question_number\"]+'.pdf')"
   ]
  }
 ],
 "metadata": {
  "kernelspec": {
   "display_name": "Python 3 (ipykernel)",
   "language": "python",
   "name": "python3"
  },
  "language_info": {
   "codemirror_mode": {
    "name": "ipython",
    "version": 3
   },
   "file_extension": ".py",
   "mimetype": "text/x-python",
   "name": "python",
   "nbconvert_exporter": "python",
   "pygments_lexer": "ipython3",
   "version": "3.9.5"
  }
 },
 "nbformat": 4,
 "nbformat_minor": 4
}
